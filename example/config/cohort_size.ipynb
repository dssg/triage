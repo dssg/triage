{
 "cells": [
  {
   "cell_type": "code",
   "execution_count": 2,
   "id": "921feeb8",
   "metadata": {},
   "outputs": [],
   "source": [
    "%matplotlib inline"
   ]
  },
  {
   "cell_type": "code",
   "execution_count": 15,
   "id": "d689c475",
   "metadata": {},
   "outputs": [
    {
     "data": {
      "image/png": "[encoded data removed]",
      "text/plain": [
       "<Figure size 432x288 with 1 Axes>"
      ]
     },
     "metadata": {
      "needs_background": "light"
     },
     "output_type": "display_data"
    }
   ],
   "source": [
    "import numpy as np\n",
    "import matplotlib.pyplot as plt\n",
    "from datetime import date\n",
    "from matplotlib.ticker import MaxNLocator\n",
    "\n",
    "fig,axes=plt.subplots(1,1)\n",
    "\n",
    "x = np.asarray([\n",
    "    date(2016, 1, 1),\n",
    "    date(2016, 2, 1),\n",
    "    date(2016, 3, 1),\n",
    "    date(2016, 4, 1),\n",
    "    date(2016, 5, 1),\n",
    "    date(2016, 6, 1),\n",
    "    date(2016, 7, 1),\n",
    "    date(2016, 8, 1),\n",
    "    date(2016, 9, 1),\n",
    "    date(2016, 10, 1),\n",
    "    date(2016, 11, 1),\n",
    "    date(2016, 12, 1)\n",
    "])\n",
    "y = np.asarray([\n",
    "    123,\n",
    "    154,\n",
    "    345,\n",
    "    322,\n",
    "    0,\n",
    "    111,\n",
    "    143,\n",
    "    109,\n",
    "    95,\n",
    "    100,\n",
    "    123,\n",
    "    200\n",
    "])\n",
    "\n",
    "plt.bar(x, y, 5)\n",
    "axes.xaxis.set_major_locator(MaxNLocator(5)) \n",
    "\n",
    "plt.xlabel('Date')\n",
    "plt.ylabel('Cohort Size')\n",
    "plt.title('Cohort Size by Date')\n",
    "plt.grid(False)\n",
    "plt.show()"
   ]
  },
  {
   "cell_type": "code",
   "execution_count": null,
   "id": "0baa4a58",
   "metadata": {},
   "outputs": [],
   "source": []
  }
 ],
 "metadata": {
  "kernelspec": {
   "display_name": "Python 3 (ipykernel)",
   "language": "python",
   "name": "python3"
  },
  "language_info": {
   "codemirror_mode": {
    "name": "ipython",
    "version": 3
   },
   "file_extension": ".py",
   "mimetype": "text/x-python",
   "name": "python",
   "nbconvert_exporter": "python",
   "pygments_lexer": "ipython3",
   "version": "3.9.5"
  }
 },
 "nbformat": 4,
 "nbformat_minor": 5
}
