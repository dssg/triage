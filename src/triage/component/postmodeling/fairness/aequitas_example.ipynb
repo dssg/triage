{
 "cells": [
  {
   "cell_type": "markdown",
   "metadata": {},
   "source": [
    "# Using Aequitas for Bias and Fairness in Data Science Systems\n",
    "## Exploring Aequitas's visualization tools both to audit a single model for fairness as well as lookinng at trade-offs between fairness and accuracy metrics"
   ]
  },
  {
   "cell_type": "markdown",
   "metadata": {},
   "source": [
    "## What does this notebook do?\n",
    "\n",
    "This notebook describes how to use the results of Aequitas to visualize fairness metrics for your models. In order to use, you must have first run Triage with a bias_audit_config and populated the Aequitas database tables. This particular visualization example uses the 2014 Donors Choose data."
   ]
  },
  {
   "cell_type": "markdown",
   "metadata": {},
   "source": [
    "## Install dependencies, import packages and data"
   ]
  },
  {
   "cell_type": "code",
   "execution_count": 1,
   "metadata": {},
   "outputs": [
    {
     "output_type": "display_data",
     "data": {
      "text/plain": "<IPython.core.display.HTML object>",
      "text/html": "<style>.container { width:75% !important; }</style>"
     },
     "metadata": {}
    }
   ],
   "source": [
    "from IPython.core.display import display, HTML\n",
    "display(HTML(\"<style>.container { width:75% !important; }</style>\"))\n",
    "import yaml\n",
    "import pandas as pd\n",
    "import numpy as np\n",
    "import seaborn as sns\n",
    "import matplotlib.pyplot as plt\n",
    "import triage.component.postmodeling.fairness.aequitas_utils as au\n",
    "import aequitas.plot as ap\n",
    "import sqlalchemy"
   ]
  },
  {
   "cell_type": "markdown",
   "metadata": {
    "pycharm": {
     "name": "#%% md\n"
    }
   },
   "source": [
    "## Load Database and Select Data From Aequitas\n",
    "Your database configuration file should be in the following form:\n",
    "<h3 align=\"center\">\n",
    "host: __  <br>\n",
    "user: __  <br>\n",
    "db: __  <br>\n",
    "pass: __  <br>\n",
    "port: __  <br>\n",
    "</h3>"
   ]
  },
  {
   "cell_type": "code",
   "execution_count": 2,
   "metadata": {},
   "outputs": [
    {
     "output_type": "execute_result",
     "data": {
      "text/plain": [
       "   model_id subset_hash tie_breaker evaluation_start_time evaluation_end_time  \\\n",
       "0       405                   worst            2012-05-01          2012-05-31   \n",
       "1       405                   worst            2012-05-01          2012-05-31   \n",
       "2       405                   worst            2012-05-01          2012-05-31   \n",
       "3       405                   worst            2012-05-01          2012-05-31   \n",
       "4       405                   worst            2012-05-01          2012-05-31   \n",
       "\n",
       "                        matrix_uuid parameter attribute_name  \\\n",
       "0  107dc250b46e9ef9b5bf4ac4b5d323fd   100_abs   school_metro   \n",
       "1  107dc250b46e9ef9b5bf4ac4b5d323fd   100_abs   school_metro   \n",
       "2  107dc250b46e9ef9b5bf4ac4b5d323fd   100_abs   school_metro   \n",
       "3  107dc250b46e9ef9b5bf4ac4b5d323fd   100_abs  poverty_level   \n",
       "4  107dc250b46e9ef9b5bf4ac4b5d323fd   100_abs  poverty_level   \n",
       "\n",
       "    attribute_value  total_entities  ...  Impact_Parity  FDR_Parity  \\\n",
       "0             urban            5461  ...           None        None   \n",
       "1          suburban            5461  ...           None        None   \n",
       "2             rural            5461  ...           None        None   \n",
       "3  moderate poverty            5461  ...           None        None   \n",
       "4       low poverty            5461  ...           None        None   \n",
       "\n",
       "   FPR_Parity FOR_Parity  FNR_Parity  TypeI_Parity  TypeII_Parity  \\\n",
       "0        None       None        None          None           None   \n",
       "1        None       None        None          None           None   \n",
       "2        None       None        None          None           None   \n",
       "3        None       None        None          None           None   \n",
       "4        None       None        None          None           None   \n",
       "\n",
       "   Equalized_Odds  Unsupervised_Fairness  Supervised_Fairness  \n",
       "0            None                   None                 None  \n",
       "1            None                   None                 None  \n",
       "2            None                   None                 None  \n",
       "3            None                   None                 None  \n",
       "4            None                   None                 None  \n",
       "\n",
       "[5 rows x 62 columns]"
      ],
      "text/html": "<div>\n<style scoped>\n    .dataframe tbody tr th:only-of-type {\n        vertical-align: middle;\n    }\n\n    .dataframe tbody tr th {\n        vertical-align: top;\n    }\n\n    .dataframe thead th {\n        text-align: right;\n    }\n</style>\n<table border=\"1\" class=\"dataframe\">\n  <thead>\n    <tr style=\"text-align: right;\">\n      <th></th>\n      <th>model_id</th>\n      <th>subset_hash</th>\n      <th>tie_breaker</th>\n      <th>evaluation_start_time</th>\n      <th>evaluation_end_time</th>\n      <th>matrix_uuid</th>\n      <th>parameter</th>\n      <th>attribute_name</th>\n      <th>attribute_value</th>\n      <th>total_entities</th>\n      <th>...</th>\n      <th>Impact_Parity</th>\n      <th>FDR_Parity</th>\n      <th>FPR_Parity</th>\n      <th>FOR_Parity</th>\n      <th>FNR_Parity</th>\n      <th>TypeI_Parity</th>\n      <th>TypeII_Parity</th>\n      <th>Equalized_Odds</th>\n      <th>Unsupervised_Fairness</th>\n      <th>Supervised_Fairness</th>\n    </tr>\n  </thead>\n  <tbody>\n    <tr>\n      <th>0</th>\n      <td>405</td>\n      <td></td>\n      <td>worst</td>\n      <td>2012-05-01</td>\n      <td>2012-05-31</td>\n      <td>107dc250b46e9ef9b5bf4ac4b5d323fd</td>\n      <td>100_abs</td>\n      <td>school_metro</td>\n      <td>urban</td>\n      <td>5461</td>\n      <td>...</td>\n      <td>None</td>\n      <td>None</td>\n      <td>None</td>\n      <td>None</td>\n      <td>None</td>\n      <td>None</td>\n      <td>None</td>\n      <td>None</td>\n      <td>None</td>\n      <td>None</td>\n    </tr>\n    <tr>\n      <th>1</th>\n      <td>405</td>\n      <td></td>\n      <td>worst</td>\n      <td>2012-05-01</td>\n      <td>2012-05-31</td>\n      <td>107dc250b46e9ef9b5bf4ac4b5d323fd</td>\n      <td>100_abs</td>\n      <td>school_metro</td>\n      <td>suburban</td>\n      <td>5461</td>\n      <td>...</td>\n      <td>None</td>\n      <td>None</td>\n      <td>None</td>\n      <td>None</td>\n      <td>None</td>\n      <td>None</td>\n      <td>None</td>\n      <td>None</td>\n      <td>None</td>\n      <td>None</td>\n    </tr>\n    <tr>\n      <th>2</th>\n      <td>405</td>\n      <td></td>\n      <td>worst</td>\n      <td>2012-05-01</td>\n      <td>2012-05-31</td>\n      <td>107dc250b46e9ef9b5bf4ac4b5d323fd</td>\n      <td>100_abs</td>\n      <td>school_metro</td>\n      <td>rural</td>\n      <td>5461</td>\n      <td>...</td>\n      <td>None</td>\n      <td>None</td>\n      <td>None</td>\n      <td>None</td>\n      <td>None</td>\n      <td>None</td>\n      <td>None</td>\n      <td>None</td>\n      <td>None</td>\n      <td>None</td>\n    </tr>\n    <tr>\n      <th>3</th>\n      <td>405</td>\n      <td></td>\n      <td>worst</td>\n      <td>2012-05-01</td>\n      <td>2012-05-31</td>\n      <td>107dc250b46e9ef9b5bf4ac4b5d323fd</td>\n      <td>100_abs</td>\n      <td>poverty_level</td>\n      <td>moderate poverty</td>\n      <td>5461</td>\n      <td>...</td>\n      <td>None</td>\n      <td>None</td>\n      <td>None</td>\n      <td>None</td>\n      <td>None</td>\n      <td>None</td>\n      <td>None</td>\n      <td>None</td>\n      <td>None</td>\n      <td>None</td>\n    </tr>\n    <tr>\n      <th>4</th>\n      <td>405</td>\n      <td></td>\n      <td>worst</td>\n      <td>2012-05-01</td>\n      <td>2012-05-31</td>\n      <td>107dc250b46e9ef9b5bf4ac4b5d323fd</td>\n      <td>100_abs</td>\n      <td>poverty_level</td>\n      <td>low poverty</td>\n      <td>5461</td>\n      <td>...</td>\n      <td>None</td>\n      <td>None</td>\n      <td>None</td>\n      <td>None</td>\n      <td>None</td>\n      <td>None</td>\n      <td>None</td>\n      <td>None</td>\n      <td>None</td>\n      <td>None</td>\n    </tr>\n  </tbody>\n</table>\n<p>5 rows × 62 columns</p>\n</div>"
     },
     "metadata": {},
     "execution_count": 2
    }
   ],
   "source": [
    "# Configure Database\n",
    "dbconfig = {}\n",
    "with open('database.yaml') as file:\n",
    "    dbconfig = yaml.load(file, Loader=yaml.FullLoader)\n",
    "dbconfig = {\n",
    "    'host': dbconfig['host'],\n",
    "    'user': dbconfig['user'],\n",
    "    'database': dbconfig['db'],\n",
    "    'password': dbconfig['pass'],\n",
    "    'port': dbconfig['port']\n",
    "    }\n",
    "conn = sqlalchemy.create_engine('postgres://', connect_args=dbconfig)\n",
    "\n",
    "# Load Data\n",
    "bdf = au.get_aequitas_results(conn, parameter = \"100_abs\", model_id = 405)\n",
    "bdf.head(5)"
   ]
  },
  {
   "cell_type": "markdown",
   "metadata": {},
   "source": [
    "## Select fairness metric(s) that we care about"
   ]
  },
  {
   "cell_type": "code",
   "execution_count": 3,
   "metadata": {},
   "outputs": [],
   "source": [
    "metrics = ['tpr']"
   ]
  },
  {
   "cell_type": "markdown",
   "metadata": {},
   "source": [
    "## Define  Disparity Tolerance "
   ]
  },
  {
   "cell_type": "code",
   "execution_count": 4,
   "metadata": {},
   "outputs": [],
   "source": [
    "disparity_tolerance = 1.30"
   ]
  },
  {
   "cell_type": "markdown",
   "metadata": {},
   "source": [
    "## Look at Audit Results"
   ]
  },
  {
   "cell_type": "markdown",
   "metadata": {
    "pycharm": {
     "name": "#%% md\n"
    }
   },
   "source": [
    "Now we are going to focus our analysis on the fairness metric(s) of interest in this case study: TPR across different groups. The aequitas plot module exposes the disparities_metrics() plot, which displays both the disparities and the group-wise metric results side by side."
   ]
  },
  {
   "cell_type": "markdown",
   "metadata": {},
   "source": [
    "### Check for Fairness in Metro_Type (where the school is based)"
   ]
  },
  {
   "cell_type": "code",
   "execution_count": 5,
   "metadata": {},
   "outputs": [
    {
     "output_type": "execute_result",
     "data": {
      "text/html": "\n<div id=\"altair-viz-f7c4e00c1d694c14a8e9bff837cfa23b\"></div>\n<script type=\"text/javascript\">\n  (function(spec, embedOpt){\n    let outputDiv = document.currentScript.previousElementSibling;\n    if (outputDiv.id !== \"altair-viz-f7c4e00c1d694c14a8e9bff837cfa23b\") {\n      outputDiv = document.getElementById(\"altair-viz-f7c4e00c1d694c14a8e9bff837cfa23b\");\n    }\n    const paths = {\n      \"vega\": \"https://cdn.jsdelivr.net/npm//vega@5?noext\",\n      \"vega-lib\": \"https://cdn.jsdelivr.net/npm//vega-lib?noext\",\n      \"vega-lite\": \"https://cdn.jsdelivr.net/npm//vega-lite@4.8.1?noext\",\n      \"vega-embed\": \"https://cdn.jsdelivr.net/npm//vega-embed@6?noext\",\n    };\n\n    function loadScript(lib) {\n      return new Promise(function(resolve, reject) {\n        var s = document.createElement('script');\n        s.src = paths[lib];\n        s.async = true;\n        s.onload = () => resolve(paths[lib]);\n        s.onerror = () => reject(`Error loading script: ${paths[lib]}`);\n        document.getElementsByTagName(\"head\")[0].appendChild(s);\n      });\n    }\n\n    function showError(err) {\n      outputDiv.innerHTML = `<div class=\"error\" style=\"color:red;\">${err}</div>`;\n      throw err;\n    }\n\n    function displayChart(vegaEmbed) {\n      vegaEmbed(outputDiv, spec, embedOpt)\n        .catch(err => showError(`Javascript Error: ${err.message}<br>This usually means there's a typo in your chart specification. See the javascript console for the full traceback.`));\n    }\n\n    if(typeof define === \"function\" && define.amd) {\n      requirejs.config({paths});\n      require([\"vega-embed\"], displayChart, err => showError(`Error loading script: ${err.message}`));\n    } else if (typeof vegaEmbed === \"function\") {\n      displayChart(vegaEmbed);\n    } else {\n      loadScript(\"vega\")\n        .then(() => loadScript(\"vega-lite\"))\n        .then(() => loadScript(\"vega-embed\"))\n        .catch(showError)\n        .then(() => displayChart(vegaEmbed));\n    }\n  })({\"config\": {\"view\": {\"continuousWidth\": 400, \"continuousHeight\": 300, \"strokeWidth\": 0}, \"axisLeft\": {\"labelColor\": \"rgb(117,117,117)\", \"labelFont\": \"Arial\", \"labelFontSize\": 16}, \"title\": {\"align\": \"center\", \"baseline\": \"middle\", \"color\": \"rgb(117,117,117)\", \"font\": \"Arial\", \"fontSize\": 20, \"fontWeight\": \"bold\"}}, \"layer\": [{\"data\": {\"name\": \"data-1f2af75cfead9a3854ee453922b4eaab\"}, \"mark\": {\"type\": \"rule\", \"stroke\": \"rgb(117,117,117)\", \"strokeWidth\": 1.25, \"tooltip\": \"\"}, \"encoding\": {\"x\": {\"type\": \"quantitative\", \"field\": \"x\", \"scale\": {\"domain\": [-2, 2], \"range\": [40.0, 760.0]}}, \"x2\": {\"field\": \"x2\"}, \"y\": {\"type\": \"nominal\", \"axis\": {\"domain\": false, \"labelAngle\": 0, \"labelPadding\": -30, \"orient\": \"left\", \"ticks\": false, \"title\": \"\"}, \"field\": \"metric\", \"scale\": {\"domain\": [\"TPR\"], \"range\": [30, 225.0]}}}}, {\"data\": {\"name\": \"data-79dd248bdaa0ea02c535240e8ad022c8\"}, \"mark\": {\"type\": \"rule\", \"stroke\": \"rgb(117,117,117)\", \"strokeDash\": [5, 5], \"strokeWidth\": 1}, \"encoding\": {\"tooltip\": {\"value\": \"urban [REF]\"}, \"x\": {\"value\": 400.0}, \"y\": {\"value\": 20.833333333333336}, \"y2\": {\"value\": 229.16666666666666}}}, {\"data\": {\"name\": \"data-c233327f4cd9b4c2df31bf8015c83e4a\"}, \"mark\": {\"type\": \"text\", \"align\": \"center\", \"color\": \"rgb(117,117,117)\", \"font\": \"Arial\", \"fontSize\": 12, \"fontWeight\": \"normal\", \"tooltip\": \"\"}, \"encoding\": {\"text\": {\"type\": \"nominal\", \"field\": \"label\"}, \"x\": {\"type\": \"quantitative\", \"field\": \"value\", \"scale\": {\"domain\": [-2, 2], \"range\": [40.0, 760.0]}}, \"y\": {\"value\": 17.5}}}, {\"layer\": [{\"mark\": {\"type\": \"text\", \"align\": \"left\", \"fill\": \"rgb(117,117,117)\", \"font\": \"Arial\", \"fontSize\": 12, \"fontWeight\": \"normal\", \"tooltip\": \"\"}, \"encoding\": {\"text\": {\"value\": \"Times Smaller\"}, \"x\": {\"value\": 40.0}, \"y\": {\"value\": 7.5}}}, {\"mark\": {\"type\": \"text\", \"align\": \"right\", \"fill\": \"rgb(117,117,117)\", \"font\": \"Arial\", \"fontSize\": 12, \"fontWeight\": \"normal\", \"tooltip\": \"\"}, \"encoding\": {\"text\": {\"value\": \"Times Larger\"}, \"x\": {\"value\": 760.0}, \"y\": {\"value\": 7.5}}}, {\"mark\": {\"type\": \"text\", \"align\": \"center\", \"fill\": \"rgb(117,117,117)\", \"font\": \"Arial\", \"fontSize\": 12, \"fontWeight\": \"normal\", \"tooltip\": \"\"}, \"encoding\": {\"text\": {\"value\": \"Equal\"}, \"x\": {\"value\": 400.0}, \"y\": {\"value\": 7.5}}}], \"data\": {\"name\": \"data-79dd248bdaa0ea02c535240e8ad022c8\"}}, {\"layer\": [{\"mark\": {\"type\": \"rule\", \"opacity\": 0.8, \"stroke\": \"rgb(217, 46, 28)\", \"strokeWidth\": 1.25, \"tooltip\": \"\"}, \"encoding\": {\"x\": {\"type\": \"quantitative\", \"field\": \"min\", \"scale\": {\"domain\": [-2, 2], \"range\": [40.0, 760.0]}}, \"y\": {\"value\": 25.0}, \"y2\": {\"value\": 225.0}}}, {\"mark\": {\"type\": \"rule\", \"opacity\": 0.8, \"stroke\": \"rgb(217, 46, 28)\", \"strokeWidth\": 1.25, \"tooltip\": \"\"}, \"encoding\": {\"x\": {\"type\": \"quantitative\", \"field\": \"max\", \"scale\": {\"domain\": [-2, 2], \"range\": [40.0, 760.0]}}, \"y\": {\"value\": 25.0}, \"y2\": {\"value\": 225.0}}}, {\"layer\": [{\"mark\": {\"type\": \"rect\", \"fill\": \"rgb(217, 46, 28)\", \"opacity\": 0.1, \"tooltip\": \"\"}, \"encoding\": {\"x\": {\"type\": \"quantitative\", \"field\": \"min\", \"scale\": {\"domain\": [-2, 2], \"range\": [40.0, 760.0]}}, \"x2\": {\"field\": \"lower_end\"}, \"y\": {\"value\": 25.0}, \"y2\": {\"value\": 225.0}}}, {\"mark\": {\"type\": \"rect\", \"fill\": \"rgb(217, 46, 28)\", \"opacity\": 0.1, \"tooltip\": \"\"}, \"encoding\": {\"x\": {\"type\": \"quantitative\", \"field\": \"max\", \"scale\": {\"domain\": [-2, 2], \"range\": [40.0, 760.0]}}, \"x2\": {\"field\": \"upper_end\"}, \"y\": {\"value\": 25.0}, \"y2\": {\"value\": 225.0}}}]}, {\"data\": {\"name\": \"data-79dd248bdaa0ea02c535240e8ad022c8\"}, \"mark\": {\"type\": \"text\", \"align\": \"left\", \"baseline\": \"top\", \"fill\": \"rgb(217, 46, 28)\", \"font\": \"Arial\", \"fontSize\": 12, \"fontWeight\": \"normal\", \"tooltip\": \"\"}, \"encoding\": {\"text\": {\"value\": \"The metric value for any group should not be 1.3 (or more) times smaller or larger than that of the reference group urban.\"}, \"x\": {\"value\": 0}, \"y\": {\"value\": 233.33333333333334}}}], \"data\": {\"name\": \"data-68125cfc4fc9557defd07e8d14c561c8\"}}, {\"layer\": [{\"mark\": \"circle\"}, {\"data\": {\"name\": \"data-d216e55bbb4ab23ff983317016ae9017\"}, \"mark\": {\"type\": \"circle\", \"opacity\": 0.2}, \"encoding\": {\"color\": {\"condition\": {\"type\": \"nominal\", \"field\": \"attribute_value\", \"legend\": null, \"scale\": {\"domain\": [\"urban\", \"suburban\", \"rural\"], \"range\": [\"rgb(117,117,117)\", \"rgb(100, 143, 255)\", \"rgb(254, 97, 0)\", \"rgb(220, 38, 127)\", \"rgb(255, 176, 0)\", \"rgb(120, 94, 240)\"]}, \"selection\": \"selector001\"}, \"value\": \"rgb(224,224,224)\"}, \"size\": {\"type\": \"quantitative\", \"field\": \"group_size\", \"legend\": null, \"scale\": {\"domain\": [0, 3124.7999999999997], \"range\": [0, 7853.981633974483]}}, \"tooltip\": [{\"type\": \"nominal\", \"field\": \"attribute_value\", \"title\": \"Group\"}, {\"type\": \"nominal\", \"field\": \"tooltip_group_size\", \"title\": \"Group Size\"}, {\"type\": \"nominal\", \"field\": \"tooltip_disparity_explanation_tpr\", \"title\": \"Disparity\"}, {\"type\": \"quantitative\", \"field\": \"tpr\", \"format\": \".2f\", \"title\": \"TPR\"}], \"x\": {\"type\": \"quantitative\", \"axis\": {\"domain\": false, \"labels\": false, \"ticks\": false, \"title\": null, \"values\": [1, 2, -2, -1]}, \"field\": \"tpr_disparity_scaled\", \"scale\": {\"domain\": [-2, 2], \"range\": [40.0, 760.0]}}, \"y\": {\"type\": \"nominal\", \"axis\": {\"domain\": false, \"grid\": false, \"labels\": false, \"ticks\": false, \"title\": \" \"}, \"field\": \"metric_variable\", \"scale\": {\"domain\": [\"TPR\"], \"range\": [30, 225.0]}}}, \"selection\": {\"selector003\": {\"type\": \"multi\", \"empty\": \"all\", \"fields\": [\"attribute_value\"]}}, \"transform\": [{\"calculate\": \"'TPR'\", \"as\": \"metric_variable\"}]}, {\"layer\": [{\"mark\": \"point\"}, {\"data\": {\"name\": \"data-d216e55bbb4ab23ff983317016ae9017\"}, \"mark\": {\"type\": \"point\", \"filled\": true, \"size\": 60}, \"encoding\": {\"color\": {\"condition\": {\"type\": \"nominal\", \"field\": \"attribute_value\", \"legend\": null, \"scale\": {\"domain\": [\"urban\", \"suburban\", \"rural\"], \"range\": [\"rgb(117,117,117)\", \"rgb(100, 143, 255)\", \"rgb(254, 97, 0)\", \"rgb(220, 38, 127)\", \"rgb(255, 176, 0)\", \"rgb(120, 94, 240)\"]}, \"selection\": \"selector001\"}, \"value\": \"rgb(224,224,224)\"}, \"shape\": {\"type\": \"nominal\", \"field\": \"attribute_value\", \"legend\": null, \"scale\": {\"domain\": [\"urban\", \"suburban\", \"rural\"], \"range\": [\"cross\", \"circle\", \"circle\"]}}, \"tooltip\": [{\"type\": \"nominal\", \"field\": \"attribute_value\", \"title\": \"Group\"}, {\"type\": \"nominal\", \"field\": \"tooltip_group_size\", \"title\": \"Group Size\"}, {\"type\": \"nominal\", \"field\": \"tooltip_disparity_explanation_tpr\", \"title\": \"Disparity\"}, {\"type\": \"quantitative\", \"field\": \"tpr\", \"format\": \".2f\", \"title\": \"TPR\"}], \"x\": {\"type\": \"quantitative\", \"axis\": {\"domain\": false, \"labels\": false, \"ticks\": false, \"title\": null, \"values\": [1, 2, -2, -1]}, \"field\": \"tpr_disparity_scaled\", \"scale\": {\"domain\": [-2, 2], \"range\": [40.0, 760.0]}}, \"y\": {\"type\": \"nominal\", \"axis\": {\"domain\": false, \"grid\": false, \"labels\": false, \"ticks\": false, \"title\": \" \"}, \"field\": \"metric_variable\", \"scale\": {\"domain\": [\"TPR\"], \"range\": [30, 225.0]}}}, \"selection\": {\"selector002\": {\"type\": \"multi\", \"empty\": \"all\", \"fields\": [\"attribute_value\"]}}, \"transform\": [{\"calculate\": \"'TPR'\", \"as\": \"metric_variable\"}]}]}]}, {\"layer\": [{\"mark\": {\"type\": \"point\", \"filled\": true, \"opacity\": 1, \"size\": 39.47841760435743}, \"encoding\": {\"color\": {\"condition\": {\"type\": \"nominal\", \"field\": \"attribute_value\", \"legend\": null, \"scale\": {\"domain\": [\"urban\", \"suburban\", \"rural\"], \"range\": [\"rgb(117,117,117)\", \"rgb(100, 143, 255)\", \"rgb(254, 97, 0)\", \"rgb(220, 38, 127)\", \"rgb(255, 176, 0)\", \"rgb(120, 94, 240)\"]}, \"selection\": \"selector001\"}, \"value\": \"rgb(224,224,224)\"}, \"shape\": {\"type\": \"nominal\", \"field\": \"attribute_value\", \"legend\": null, \"scale\": {\"domain\": [\"urban\", \"suburban\", \"rural\"], \"range\": [\"cross\", \"circle\", \"circle\"]}}, \"x\": {\"value\": 804}, \"y\": {\"type\": \"nominal\", \"axis\": {\"domain\": false, \"grid\": false, \"labels\": false, \"ticks\": false, \"title\": \" \"}, \"field\": \"attribute_value\", \"scale\": {\"domain\": [\"urban\", \"suburban\", \"rural\"], \"range\": [71, 147]}}}, \"selection\": {\"selector001\": {\"type\": \"multi\", \"empty\": \"all\", \"fields\": [\"attribute_value\"]}}}, {\"mark\": {\"type\": \"text\", \"align\": \"left\", \"baseline\": \"middle\", \"font\": \"Arial\", \"fontSize\": 12, \"fontWeight\": \"normal\"}, \"encoding\": {\"color\": {\"condition\": {\"type\": \"nominal\", \"field\": \"attribute_value\", \"legend\": null, \"scale\": {\"domain\": [\"urban\", \"suburban\", \"rural\"], \"range\": [\"rgb(117,117,117)\", \"rgb(100, 143, 255)\", \"rgb(254, 97, 0)\", \"rgb(220, 38, 127)\", \"rgb(255, 176, 0)\", \"rgb(120, 94, 240)\"]}, \"selection\": \"selector001\"}, \"value\": \"rgb(224,224,224)\"}, \"text\": {\"type\": \"nominal\", \"field\": \"label\"}, \"x\": {\"value\": 812}, \"y\": {\"type\": \"nominal\", \"axis\": {\"domain\": false, \"grid\": false, \"labels\": false, \"ticks\": false, \"title\": \" \"}, \"field\": \"attribute_value\", \"scale\": {\"domain\": [\"urban\", \"suburban\", \"rural\"], \"range\": [71, 147]}}}, \"selection\": {\"selector004\": {\"type\": \"multi\", \"empty\": \"all\", \"fields\": [\"attribute_value\"]}}}, {\"data\": {\"name\": \"data-79dd248bdaa0ea02c535240e8ad022c8\"}, \"mark\": {\"type\": \"text\", \"align\": \"left\", \"baseline\": \"middle\", \"color\": \"rgb(117,117,117)\", \"font\": \"Arial\", \"fontSize\": 12, \"fontWeight\": \"normal\"}, \"encoding\": {\"text\": {\"value\": \"Click to highlight a group.\"}, \"x\": {\"value\": 800}, \"y\": {\"value\": 49}}}, {\"data\": {\"name\": \"data-79dd248bdaa0ea02c535240e8ad022c8\"}, \"mark\": {\"type\": \"text\", \"align\": \"left\", \"baseline\": \"middle\", \"color\": \"rgb(117,117,117)\", \"font\": \"Arial\", \"fontSize\": 14, \"fontWeight\": \"normal\"}, \"encoding\": {\"text\": {\"value\": \"Groups\"}, \"x\": {\"value\": 800}, \"y\": {\"value\": 30}}}], \"data\": {\"name\": \"data-31495a5db77544f0a9e358a64c53392c\"}}], \"height\": 250, \"padding\": {\"top\": 15, \"bottom\": 10}, \"resolve\": {\"scale\": {\"size\": \"independent\", \"y\": \"independent\"}}, \"title\": \"Disparities on School_Metro\", \"width\": 800, \"$schema\": \"https://vega.github.io/schema/vega-lite/v4.8.1.json\", \"datasets\": {\"data-1f2af75cfead9a3854ee453922b4eaab\": [{\"metric\": \"TPR\", \"x\": -2, \"x2\": 2}], \"data-79dd248bdaa0ea02c535240e8ad022c8\": [{\"a\": 1, \"b\": 0}, {\"a\": 1, \"b\": 0}], \"data-c233327f4cd9b4c2df31bf8015c83e4a\": [{\"value\": 1, \"label\": 2}, {\"value\": 2, \"label\": 3}, {\"value\": -2, \"label\": 3}, {\"value\": -1, \"label\": 2}, {\"value\": 0, \"label\": \"=\"}], \"data-68125cfc4fc9557defd07e8d14c561c8\": [{\"min\": -0.30000000000000004, \"max\": 0.30000000000000004, \"lower_end\": -2, \"upper_end\": 2}], \"data-d216e55bbb4ab23ff983317016ae9017\": [{\"attribute_name\": \"school_metro\", \"attribute_value\": \"urban\", \"group_size\": 2604, \"total_entities\": 5461, \"tpr\": 0.03632478632478633, \"tpr_disparity\": 1.0, \"tpr_disparity_scaled\": 0.0, \"tooltip_group_size\": \"2,604 (47.68%)\", \"tooltip_disparity_explanation_tpr\": \"Reference group\"}, {\"attribute_name\": \"school_metro\", \"attribute_value\": \"suburban\", \"group_size\": 1474, \"total_entities\": 5461, \"tpr\": 0.04873294346978557, \"tpr_disparity\": 1.3415892672858616, \"tpr_disparity_scaled\": 0.3415892672858616, \"tooltip_group_size\": \"1,474 (26.99%)\", \"tooltip_disparity_explanation_tpr\": \"1.34 times larger TPR than the reference group\"}, {\"attribute_name\": \"school_metro\", \"attribute_value\": \"rural\", \"group_size\": 741, \"total_entities\": 5461, \"tpr\": 0.0311284046692607, \"tpr_disparity\": 0.856946669718471, \"tpr_disparity_scaled\": -0.16693376068376065, \"tooltip_group_size\": \"741 (13.57%)\", \"tooltip_disparity_explanation_tpr\": \"1.17 times smaller TPR than the reference group\"}], \"data-31495a5db77544f0a9e358a64c53392c\": [{\"attribute_value\": \"urban\", \"label\": \"urban [REF]\"}, {\"attribute_value\": \"suburban\", \"label\": \"suburban\"}, {\"attribute_value\": \"rural\", \"label\": \"rural\"}]}}, {\"mode\": \"vega-lite\"});\n</script>",
      "text/plain": [
       "alt.LayerChart(...)"
      ]
     },
     "metadata": {},
     "execution_count": 5
    }
   ],
   "source": [
    "%matplotlib inline\n",
    "ap.disparity(bdf, metrics, 'school_metro', fairness_threshold = disparity_tolerance)"
   ]
  },
  {
   "cell_type": "code",
   "execution_count": 6,
   "metadata": {},
   "outputs": [
    {
     "output_type": "execute_result",
     "data": {
      "text/html": "\n<div id=\"altair-viz-9d31563273e740a4b3df3f44d58ef401\"></div>\n<script type=\"text/javascript\">\n  (function(spec, embedOpt){\n    let outputDiv = document.currentScript.previousElementSibling;\n    if (outputDiv.id !== \"altair-viz-9d31563273e740a4b3df3f44d58ef401\") {\n      outputDiv = document.getElementById(\"altair-viz-9d31563273e740a4b3df3f44d58ef401\");\n    }\n    const paths = {\n      \"vega\": \"https://cdn.jsdelivr.net/npm//vega@5?noext\",\n      \"vega-lib\": \"https://cdn.jsdelivr.net/npm//vega-lib?noext\",\n      \"vega-lite\": \"https://cdn.jsdelivr.net/npm//vega-lite@4.8.1?noext\",\n      \"vega-embed\": \"https://cdn.jsdelivr.net/npm//vega-embed@6?noext\",\n    };\n\n    function loadScript(lib) {\n      return new Promise(function(resolve, reject) {\n        var s = document.createElement('script');\n        s.src = paths[lib];\n        s.async = true;\n        s.onload = () => resolve(paths[lib]);\n        s.onerror = () => reject(`Error loading script: ${paths[lib]}`);\n        document.getElementsByTagName(\"head\")[0].appendChild(s);\n      });\n    }\n\n    function showError(err) {\n      outputDiv.innerHTML = `<div class=\"error\" style=\"color:red;\">${err}</div>`;\n      throw err;\n    }\n\n    function displayChart(vegaEmbed) {\n      vegaEmbed(outputDiv, spec, embedOpt)\n        .catch(err => showError(`Javascript Error: ${err.message}<br>This usually means there's a typo in your chart specification. See the javascript console for the full traceback.`));\n    }\n\n    if(typeof define === \"function\" && define.amd) {\n      requirejs.config({paths});\n      require([\"vega-embed\"], displayChart, err => showError(`Error loading script: ${err.message}`));\n    } else if (typeof vegaEmbed === \"function\") {\n      displayChart(vegaEmbed);\n    } else {\n      loadScript(\"vega\")\n        .then(() => loadScript(\"vega-lite\"))\n        .then(() => loadScript(\"vega-embed\"))\n        .catch(showError)\n        .then(() => displayChart(vegaEmbed));\n    }\n  })({\"config\": {\"view\": {\"continuousWidth\": 400, \"continuousHeight\": 300, \"strokeWidth\": 0}, \"axisLeft\": {\"labelColor\": \"rgb(117,117,117)\", \"labelFont\": \"Arial\", \"labelFontSize\": 16}, \"title\": {\"align\": \"center\", \"baseline\": \"middle\", \"color\": \"rgb(117,117,117)\", \"font\": \"Arial\", \"fontSize\": 20, \"fontWeight\": \"bold\"}}, \"layer\": [{\"data\": {\"name\": \"data-2877b248c93196b56da8c0b23bb53c1d\"}, \"mark\": {\"type\": \"rule\", \"stroke\": \"rgb(117,117,117)\", \"strokeWidth\": 1.25, \"tooltip\": \"\"}, \"encoding\": {\"x\": {\"type\": \"quantitative\", \"field\": \"start\", \"scale\": {\"domain\": [0, 1], \"range\": [40.0, 760.0]}}, \"x2\": {\"field\": \"end\"}, \"y\": {\"type\": \"nominal\", \"axis\": {\"domain\": false, \"labelAngle\": 0, \"labelPadding\": -30, \"orient\": \"left\", \"ticks\": false, \"title\": \"\"}, \"field\": \"y_position\", \"scale\": {\"domain\": [\"TPR\"], \"range\": [17.5, 157.5]}}}}, {\"data\": {\"name\": \"data-6cfe259518f6c7b358d8f836a73e6b7f\"}, \"mark\": {\"type\": \"rule\", \"stroke\": \"rgb(117,117,117)\", \"strokeWidth\": 1.25, \"tooltip\": \"\"}, \"encoding\": {\"x\": {\"type\": \"quantitative\", \"field\": \"x_position\", \"scale\": {\"domain\": [0, 1], \"range\": [40.0, 760.0]}}, \"y\": {\"value\": 17.5}, \"y2\": {\"value\": 157.5}}}, {\"data\": {\"name\": \"data-60ed1133fa688d151d36705a369482e0\"}, \"mark\": {\"type\": \"text\", \"align\": \"center\", \"color\": \"rgb(117,117,117)\", \"font\": \"Arial\", \"fontSize\": 12, \"fontWeight\": \"normal\", \"tooltip\": \"\"}, \"encoding\": {\"text\": {\"type\": \"nominal\", \"field\": \"value\"}, \"x\": {\"type\": \"quantitative\", \"field\": \"value\", \"scale\": {\"domain\": [0, 1], \"range\": [40.0, 760.0]}}, \"y\": {\"value\": 12.25}}}, {\"layer\": [{\"mark\": {\"type\": \"rect\", \"opacity\": 0.8, \"stroke\": \"rgb(217, 46, 28)\", \"strokeWidth\": 1.25, \"tooltip\": \"\"}, \"encoding\": {\"x\": {\"type\": \"quantitative\", \"field\": \"lower_threshold_value\", \"scale\": {\"domain\": [0, 1], \"range\": [40.0, 760.0]}}, \"x2\": {\"field\": \"lower_threshold_value\"}, \"y\": {\"type\": \"nominal\", \"axis\": {\"domain\": false, \"grid\": false, \"labels\": false, \"ticks\": false, \"title\": \" \"}, \"field\": \"metric\", \"scale\": {\"domain\": [\"TPR\"], \"range\": [17.5, 157.5]}}}}, {\"mark\": {\"type\": \"rect\", \"opacity\": 0.8, \"stroke\": \"rgb(217, 46, 28)\", \"strokeWidth\": 1.25, \"tooltip\": \"\"}, \"encoding\": {\"x\": {\"type\": \"quantitative\", \"field\": \"upper_threshold_value\", \"scale\": {\"domain\": [0, 1], \"range\": [40.0, 760.0]}}, \"x2\": {\"field\": \"upper_threshold_value\"}, \"y\": {\"type\": \"nominal\", \"axis\": {\"domain\": false, \"grid\": false, \"labels\": false, \"ticks\": false, \"title\": \" \"}, \"field\": \"metric\", \"scale\": {\"domain\": [\"TPR\"], \"range\": [17.5, 157.5]}}}}, {\"layer\": [{\"mark\": {\"type\": \"rect\", \"fill\": \"rgb(217, 46, 28)\", \"opacity\": 0.1, \"tooltip\": \"\"}, \"encoding\": {\"x\": {\"type\": \"quantitative\", \"field\": \"lower_threshold_value\", \"scale\": {\"domain\": [0, 1], \"range\": [40.0, 760.0]}}, \"x2\": {\"field\": \"lower_end\"}, \"y\": {\"type\": \"nominal\", \"axis\": {\"domain\": false, \"grid\": false, \"labels\": false, \"ticks\": false, \"title\": \" \"}, \"field\": \"metric\", \"scale\": {\"domain\": [\"TPR\"], \"range\": [17.5, 157.5]}}}}, {\"mark\": {\"type\": \"rect\", \"fill\": \"rgb(217, 46, 28)\", \"opacity\": 0.1, \"tooltip\": \"\"}, \"encoding\": {\"x\": {\"type\": \"quantitative\", \"field\": \"upper_threshold_value\", \"scale\": {\"domain\": [0, 1], \"range\": [40.0, 760.0]}}, \"x2\": {\"field\": \"upper_end\"}, \"y\": {\"type\": \"nominal\", \"axis\": {\"domain\": false, \"grid\": false, \"labels\": false, \"ticks\": false, \"title\": \" \"}, \"field\": \"metric\", \"scale\": {\"domain\": [\"TPR\"], \"range\": [17.5, 157.5]}}}}]}, {\"data\": {\"name\": \"data-79dd248bdaa0ea02c535240e8ad022c8\"}, \"mark\": {\"type\": \"text\", \"align\": \"left\", \"baseline\": \"top\", \"fill\": \"rgb(217, 46, 28)\", \"font\": \"Arial\", \"fontSize\": 12, \"fontWeight\": \"normal\", \"tooltip\": \"\"}, \"encoding\": {\"text\": {\"value\": \"The metric value for any group should not be 1.3 (or more) times smaller or larger than that of the reference group urban.\"}, \"x\": {\"value\": 0}, \"y\": {\"value\": 163.33333333333334}}}], \"data\": {\"name\": \"data-9ea53a94b6d436858a763d24b5bfac00\"}}, {\"layer\": [{\"mark\": \"circle\"}, {\"data\": {\"name\": \"data-d216e55bbb4ab23ff983317016ae9017\"}, \"mark\": {\"type\": \"circle\", \"opacity\": 0.2}, \"encoding\": {\"color\": {\"condition\": {\"type\": \"nominal\", \"field\": \"attribute_value\", \"legend\": null, \"scale\": {\"domain\": [\"urban\", \"suburban\", \"rural\"], \"range\": [\"rgb(117,117,117)\", \"rgb(100, 143, 255)\", \"rgb(254, 97, 0)\", \"rgb(220, 38, 127)\", \"rgb(255, 176, 0)\", \"rgb(120, 94, 240)\"]}, \"selection\": \"selector005\"}, \"value\": \"rgb(224,224,224)\"}, \"size\": {\"type\": \"quantitative\", \"field\": \"group_size\", \"legend\": null, \"scale\": {\"domain\": [0, 3124.7999999999997], \"range\": [0, 3848.4510006474966]}}, \"tooltip\": [{\"type\": \"nominal\", \"field\": \"attribute_value\", \"title\": \"Group\"}, {\"type\": \"nominal\", \"field\": \"tooltip_group_size\", \"title\": \"Group Size\"}, {\"type\": \"nominal\", \"field\": \"tooltip_disparity_explanation_tpr\", \"title\": \"Disparity\"}, {\"type\": \"quantitative\", \"field\": \"tpr\", \"format\": \".2f\", \"title\": \"TPR\"}], \"x\": {\"type\": \"quantitative\", \"axis\": {\"domain\": false, \"labels\": false, \"ticks\": false, \"title\": null, \"values\": [0.25, 0.5, 0.75]}, \"field\": \"tpr\", \"scale\": {\"domain\": [0, 1], \"range\": [40.0, 760.0]}}, \"y\": {\"type\": \"nominal\", \"axis\": {\"domain\": false, \"grid\": false, \"labels\": false, \"ticks\": false, \"title\": \" \"}, \"field\": \"metric_variable\", \"scale\": {\"domain\": [\"TPR\"], \"range\": [17.5, 157.5]}}}, \"selection\": {\"selector007\": {\"type\": \"multi\", \"empty\": \"all\", \"fields\": [\"attribute_value\"]}}, \"transform\": [{\"calculate\": \"'TPR'\", \"as\": \"metric_variable\"}]}, {\"layer\": [{\"mark\": \"point\"}, {\"data\": {\"name\": \"data-d216e55bbb4ab23ff983317016ae9017\"}, \"mark\": {\"type\": \"point\", \"filled\": true, \"size\": 60}, \"encoding\": {\"color\": {\"condition\": {\"type\": \"nominal\", \"field\": \"attribute_value\", \"legend\": null, \"scale\": {\"domain\": [\"urban\", \"suburban\", \"rural\"], \"range\": [\"rgb(117,117,117)\", \"rgb(100, 143, 255)\", \"rgb(254, 97, 0)\", \"rgb(220, 38, 127)\", \"rgb(255, 176, 0)\", \"rgb(120, 94, 240)\"]}, \"selection\": \"selector005\"}, \"value\": \"rgb(224,224,224)\"}, \"shape\": {\"type\": \"nominal\", \"field\": \"attribute_value\", \"legend\": null, \"scale\": {\"domain\": [\"urban\", \"suburban\", \"rural\"], \"range\": [\"cross\", \"circle\", \"circle\"]}}, \"tooltip\": [{\"type\": \"nominal\", \"field\": \"attribute_value\", \"title\": \"Group\"}, {\"type\": \"nominal\", \"field\": \"tooltip_group_size\", \"title\": \"Group Size\"}, {\"type\": \"nominal\", \"field\": \"tooltip_disparity_explanation_tpr\", \"title\": \"Disparity\"}, {\"type\": \"quantitative\", \"field\": \"tpr\", \"format\": \".2f\", \"title\": \"TPR\"}], \"x\": {\"type\": \"quantitative\", \"axis\": {\"domain\": false, \"labels\": false, \"ticks\": false, \"title\": null, \"values\": [0.25, 0.5, 0.75]}, \"field\": \"tpr\", \"scale\": {\"domain\": [0, 1], \"range\": [40.0, 760.0]}}, \"y\": {\"type\": \"nominal\", \"axis\": {\"domain\": false, \"grid\": false, \"labels\": false, \"ticks\": false, \"title\": \" \"}, \"field\": \"metric_variable\", \"scale\": {\"domain\": [\"TPR\"], \"range\": [17.5, 157.5]}}}, \"selection\": {\"selector006\": {\"type\": \"multi\", \"empty\": \"all\", \"fields\": [\"attribute_value\"]}}, \"transform\": [{\"calculate\": \"'TPR'\", \"as\": \"metric_variable\"}]}]}]}, {\"layer\": [{\"mark\": {\"type\": \"point\", \"filled\": true, \"opacity\": 1, \"size\": 39.47841760435743}, \"encoding\": {\"color\": {\"condition\": {\"type\": \"nominal\", \"field\": \"attribute_value\", \"legend\": null, \"scale\": {\"domain\": [\"urban\", \"suburban\", \"rural\"], \"range\": [\"rgb(117,117,117)\", \"rgb(100, 143, 255)\", \"rgb(254, 97, 0)\", \"rgb(220, 38, 127)\", \"rgb(255, 176, 0)\", \"rgb(120, 94, 240)\"]}, \"selection\": \"selector005\"}, \"value\": \"rgb(224,224,224)\"}, \"shape\": {\"type\": \"nominal\", \"field\": \"attribute_value\", \"legend\": null, \"scale\": {\"domain\": [\"urban\", \"suburban\", \"rural\"], \"range\": [\"cross\", \"circle\", \"circle\"]}}, \"x\": {\"value\": 804}, \"y\": {\"type\": \"nominal\", \"axis\": {\"domain\": false, \"grid\": false, \"labels\": false, \"ticks\": false, \"title\": \" \"}, \"field\": \"attribute_value\", \"scale\": {\"domain\": [\"urban\", \"suburban\", \"rural\"], \"range\": [71, 147]}}}, \"selection\": {\"selector005\": {\"type\": \"multi\", \"empty\": \"all\", \"fields\": [\"attribute_value\"]}}}, {\"mark\": {\"type\": \"text\", \"align\": \"left\", \"baseline\": \"middle\", \"font\": \"Arial\", \"fontSize\": 12, \"fontWeight\": \"normal\"}, \"encoding\": {\"color\": {\"condition\": {\"type\": \"nominal\", \"field\": \"attribute_value\", \"legend\": null, \"scale\": {\"domain\": [\"urban\", \"suburban\", \"rural\"], \"range\": [\"rgb(117,117,117)\", \"rgb(100, 143, 255)\", \"rgb(254, 97, 0)\", \"rgb(220, 38, 127)\", \"rgb(255, 176, 0)\", \"rgb(120, 94, 240)\"]}, \"selection\": \"selector005\"}, \"value\": \"rgb(224,224,224)\"}, \"text\": {\"type\": \"nominal\", \"field\": \"label\"}, \"x\": {\"value\": 812}, \"y\": {\"type\": \"nominal\", \"axis\": {\"domain\": false, \"grid\": false, \"labels\": false, \"ticks\": false, \"title\": \" \"}, \"field\": \"attribute_value\", \"scale\": {\"domain\": [\"urban\", \"suburban\", \"rural\"], \"range\": [71, 147]}}}, \"selection\": {\"selector008\": {\"type\": \"multi\", \"empty\": \"all\", \"fields\": [\"attribute_value\"]}}}, {\"data\": {\"name\": \"data-79dd248bdaa0ea02c535240e8ad022c8\"}, \"mark\": {\"type\": \"text\", \"align\": \"left\", \"baseline\": \"middle\", \"color\": \"rgb(117,117,117)\", \"font\": \"Arial\", \"fontSize\": 12, \"fontWeight\": \"normal\"}, \"encoding\": {\"text\": {\"value\": \"Click to highlight a group.\"}, \"x\": {\"value\": 800}, \"y\": {\"value\": 49}}}, {\"data\": {\"name\": \"data-79dd248bdaa0ea02c535240e8ad022c8\"}, \"mark\": {\"type\": \"text\", \"align\": \"left\", \"baseline\": \"middle\", \"color\": \"rgb(117,117,117)\", \"font\": \"Arial\", \"fontSize\": 14, \"fontWeight\": \"normal\"}, \"encoding\": {\"text\": {\"value\": \"Groups\"}, \"x\": {\"value\": 800}, \"y\": {\"value\": 30}}}], \"data\": {\"name\": \"data-31495a5db77544f0a9e358a64c53392c\"}}], \"height\": 175, \"padding\": {\"top\": 15, \"bottom\": 10}, \"resolve\": {\"scale\": {\"size\": \"independent\", \"y\": \"independent\"}}, \"title\": \"Absolute values by School_Metro\", \"width\": 800, \"$schema\": \"https://vega.github.io/schema/vega-lite/v4.8.1.json\", \"datasets\": {\"data-2877b248c93196b56da8c0b23bb53c1d\": [{\"y_position\": \"TPR\", \"start\": 0, \"end\": 1}], \"data-6cfe259518f6c7b358d8f836a73e6b7f\": [{\"x_position\": 0}, {\"x_position\": 1}], \"data-60ed1133fa688d151d36705a369482e0\": [{\"value\": 0.0}, {\"value\": 0.25}, {\"value\": 0.5}, {\"value\": 0.75}, {\"value\": 1.0}], \"data-9ea53a94b6d436858a763d24b5bfac00\": [{\"lower_end\": 0, \"upper_end\": 1, \"lower_threshold_value\": 0.027942143326758713, \"upper_threshold_value\": 0.04722222222222223, \"metric\": \"TPR\"}], \"data-79dd248bdaa0ea02c535240e8ad022c8\": [{\"a\": 1, \"b\": 0}, {\"a\": 1, \"b\": 0}], \"data-d216e55bbb4ab23ff983317016ae9017\": [{\"attribute_name\": \"school_metro\", \"attribute_value\": \"urban\", \"group_size\": 2604, \"total_entities\": 5461, \"tpr\": 0.03632478632478633, \"tpr_disparity\": 1.0, \"tpr_disparity_scaled\": 0.0, \"tooltip_group_size\": \"2,604 (47.68%)\", \"tooltip_disparity_explanation_tpr\": \"Reference group\"}, {\"attribute_name\": \"school_metro\", \"attribute_value\": \"suburban\", \"group_size\": 1474, \"total_entities\": 5461, \"tpr\": 0.04873294346978557, \"tpr_disparity\": 1.3415892672858616, \"tpr_disparity_scaled\": 0.3415892672858616, \"tooltip_group_size\": \"1,474 (26.99%)\", \"tooltip_disparity_explanation_tpr\": \"1.34 times larger TPR than the reference group\"}, {\"attribute_name\": \"school_metro\", \"attribute_value\": \"rural\", \"group_size\": 741, \"total_entities\": 5461, \"tpr\": 0.0311284046692607, \"tpr_disparity\": 0.856946669718471, \"tpr_disparity_scaled\": -0.16693376068376065, \"tooltip_group_size\": \"741 (13.57%)\", \"tooltip_disparity_explanation_tpr\": \"1.17 times smaller TPR than the reference group\"}], \"data-31495a5db77544f0a9e358a64c53392c\": [{\"attribute_value\": \"urban\", \"label\": \"urban [REF]\"}, {\"attribute_value\": \"suburban\", \"label\": \"suburban\"}, {\"attribute_value\": \"rural\", \"label\": \"rural\"}]}}, {\"mode\": \"vega-lite\"});\n</script>",
      "text/plain": [
       "alt.LayerChart(...)"
      ]
     },
     "metadata": {},
     "execution_count": 6
    }
   ],
   "source": [
    "%matplotlib inline\n",
    "ap.absolute(bdf, metrics, 'school_metro', fairness_threshold = disparity_tolerance)"
   ]
  }
 ],
 "metadata": {
  "kernelspec": {
   "name": "python3",
   "display_name": "Python 3.7.7 64-bit ('test-3.7.7')",
   "metadata": {
    "interpreter": {
     "hash": "905ca19fc6cdc1674c3b12442442a209a2c854718de6524e91e9f6e7837062b4"
    }
   }
  },
  "language_info": {
   "codemirror_mode": {
    "name": "ipython",
    "version": 3
   },
   "file_extension": ".py",
   "mimetype": "text/x-python",
   "name": "python",
   "nbconvert_exporter": "python",
   "pygments_lexer": "ipython3",
   "version": "3.7.7-final"
  }
 },
 "nbformat": 4,
 "nbformat_minor": 4
}